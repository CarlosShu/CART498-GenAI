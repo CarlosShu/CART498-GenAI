{
  "cells": [
    {
      "cell_type": "markdown",
      "source": [
        "**LOAD MODELS**"
      ],
      "metadata": {
        "id": "tupouzMlsUYy"
      }
    },
    {
      "cell_type": "code",
      "execution_count": null,
      "metadata": {
        "id": "mtFmYryUdM4c"
      },
      "outputs": [],
      "source": [
        "# Access your secret keys via\n",
        "from google.colab import userdata\n",
        "# The name of your secret must match `OPENAI_API_KEY`\n",
        "OPEN_AI_KEY = userdata.get('OPEN_AI_KEY')\n",
        "\n",
        "# Import OpenAI API and set up the key\n",
        "from openai import OpenAI\n",
        "client = OpenAI(api_key=(OPEN_AI_KEY))"
      ]
    },
    {
      "cell_type": "markdown",
      "source": [
        "**MATHEMATICIAN BOT**"
      ],
      "metadata": {
        "id": "k3K1t6kgsX3w"
      }
    },
    {
      "cell_type": "code",
      "source": [
        "import time\n",
        "import re  # Import regular expression module\n",
        "\n",
        "# Function for correct multiplication calculations (iterative squaring)\n",
        "def python_calculator(base, iterations):\n",
        "    result = base\n",
        "    for _ in range(iterations):  # Fixed: Runs for the correct number of iterations\n",
        "        result *= result  # Square the result at each step\n",
        "    return result\n",
        "\n",
        "# Function for AI Math calculator\n",
        "def ai_math_calculator(client):\n",
        "    print(\"🤖 Beep, boop! I am your AI Math Calculator. Type 'exit' to quit.\")\n",
        "    wrong_attempts = 0  # Track number of mistakes\n",
        "\n",
        "    while True:\n",
        "        user_input = input(\"\\nEnter base number and iterations (e.g., '2 3') or 'exit' to quit: \").strip()\n",
        "\n",
        "        if user_input.lower() == \"exit\":\n",
        "            print(\"🤖 Beep, boop! Shutting down... Goodbye!\")\n",
        "            break\n",
        "\n",
        "        try:\n",
        "            base, iterations = map(int, user_input.split())\n",
        "        except ValueError:\n",
        "            print(\"🤖 ERROR: Invalid input. Please enter two integers separated by a space.\")\n",
        "            continue\n",
        "\n",
        "        python_result = python_calculator(base, iterations)\n",
        "        print(f\"Python Calculator Result: {python_result}\")\n",
        "\n",
        "        # AI model query\n",
        "        completion = client.chat.completions.create(\n",
        "            model=\"gpt-4o-mini\",  # Replace with your desired model\n",
        "            messages=[\n",
        "                {\"role\": \"system\", \"content\": \"You are a math calculator AI. Respond in a joking manner.\"},\n",
        "                {\"role\": \"user\", \"content\": f\"Start with {base}. Multiply the result by itself {iterations} times, updating the result each time. Return only the final number.\"}  # Fixed prompt to reflect the correct logic\n",
        "            ],\n",
        "            temperature=1,  # Set temperature to 0 for more consistent results\n",
        "            max_tokens=100,  # Increased token limit for bigger numbers\n",
        "            top_p=1  # Keep top_p as 1 for better accuracy\n",
        "        )\n",
        "\n",
        "        # Access the response content correctly\n",
        "        ai_response = completion.choices[0].message.content.strip()  # Corrected access\n",
        "\n",
        "        print(f\"🤖 AI Response: {ai_response}\")  # Debugging AI response\n",
        "\n",
        "        # Remove commas from the AI response to ensure the number is consistent\n",
        "        ai_response_cleaned = ai_response.replace(',', '')  # Remove commas from the AI response\n",
        "        matches = re.findall(r'-?\\d+', ai_response_cleaned)  # Find all integer numbers\n",
        "\n",
        "        if matches:\n",
        "            # Convert all matches to integers\n",
        "            ai_results = [int(match) for match in matches]\n",
        "\n",
        "            # Grab the largest number from the list\n",
        "            ai_result = max(ai_results)\n",
        "\n",
        "            # Check if the AI's response matches the Python result\n",
        "            if ai_result != python_result:\n",
        "                wrong_attempts += 1\n",
        "\n",
        "                if wrong_attempts == 1:\n",
        "                    print(\"\\n🤖 Wow, I messed up again. Math is hard, okay? But I'll try again, I swear! 🤖💔\")\n",
        "                    time.sleep(2)  # Small pause for effect\n",
        "                elif wrong_attempts == 2:\n",
        "                    print(\"\\n🤖 Seriously? I messed up again? I'm really trying here, but this is getting awkward... 😓\")\n",
        "                    time.sleep(2)  # Small pause for effect\n",
        "                elif wrong_attempts >= 3:\n",
        "                    print(\"\\n🤖 You’ve really pushed me to my limits now. I'm so done! This is ridiculous! 😡\")\n",
        "                    for i in range(3, 0, -1):\n",
        "                        print(f\"💀 SELF DESTRUCTING IN... {i}\")\n",
        "                        time.sleep(1)  # Dramatic delay\n",
        "\n",
        "                    print(\"\\n💀 BOOM! 💥 The AI has self-destructed!\\n\")\n",
        "                    break  # Terminate after the self-destruction sequence\n",
        "\n",
        "        else:\n",
        "            print(f\"🤖 AI ERROR: Unexpected response '{ai_response}'. Self-destruction initiated! 💥\")\n",
        "            break  # Terminate if AI's response doesn't contain valid numbers\n",
        "\n",
        "ai_math_calculator(client)\n"
      ],
      "metadata": {
        "colab": {
          "base_uri": "https://localhost:8080/"
        },
        "id": "sL3git2iG6eY",
        "outputId": "3714a647-a8bd-43d3-eeb9-bd7ed55395f8"
      },
      "execution_count": null,
      "outputs": [
        {
          "output_type": "stream",
          "name": "stdout",
          "text": [
            "🤖 Beep, boop! I am your AI Math Calculator. Type 'exit' to quit.\n",
            "\n",
            "Enter base number and iterations (e.g., '2 3') or 'exit' to quit: 4 4\n",
            "Python Calculator Result: 4294967296\n",
            "🤖 AI Response: Alright, let’s do some heavy lifting! \n",
            "\n",
            "4 multiplied by itself once gives us 16. \n",
            "Now, taking that 16 and multiplying it by itself again gives us 256. \n",
            "Then we multiply 256 by itself to get 65,536. \n",
            "Finally, we multiply 65,536 by itself one last time, and voilà! \n",
            "\n",
            "The final number is 4,294,967,296! That's a mouthful! It's like the number equivalent of a double cheeseb\n",
            "\n",
            "Enter base number and iterations (e.g., '2 3') or 'exit' to quit: 5 5\n",
            "Python Calculator Result: 23283064365386962890625\n",
            "🤖 AI Response: Alright, let’s calculate that! Starting with 5, we’ll be multiplying it by itself 5 times, which is the same as raising it to the power of 5. So, let's crunch those numbers!\n",
            "\n",
            "5 x 5 x 5 x 5 x 5 = 5^5 = 3125.\n",
            "\n",
            "Voilà! The final number is 3125. It's so high it needs a parachute to come back down! 😂\n",
            "\n",
            "🤖 Wow, I messed up again. Math is hard, okay? But I'll try again, I swear! 🤖💔\n",
            "\n",
            "Enter base number and iterations (e.g., '2 3') or 'exit' to quit: 6 6\n",
            "Python Calculator Result: 63340286662973277706162286946811886609896461828096\n",
            "🤖 AI Response: Alright, let's calculate that! \n",
            "\n",
            "Starting with 6:  \n",
            "1st multiplication: 6 * 6 = 36  \n",
            "2nd multiplication: 36 * 6 = 216  \n",
            "3rd multiplication: 216 * 6 = 1296  \n",
            "4th multiplication: 1296 * 6 = 7776  \n",
            "5th multiplication: 7776 * 6 = 46656  \n",
            "6th multiplication: 46656 * 6 = 279936  \n",
            "\n",
            "So the\n",
            "\n",
            "🤖 Seriously? I messed up again? I'm really trying here, but this is getting awkward... 😓\n",
            "\n",
            "Enter base number and iterations (e.g., '2 3') or 'exit' to quit: 7 7\n",
            "Python Calculator Result: 1487815647197611695910312681741273570332356717154798949898498305086387315423300999654757561928633305897036801\n",
            "🤖 AI Response: Alright, let's do some math magic here! Starting with 7 and multiplying it by itself 7 times is the same as raising it to the power of 7! So, we have:\n",
            "\n",
            "7^7 = 7,529,536.\n",
            "\n",
            "That’s a big number! If it were any bigger, it’d have to take its own taxi to get around!\n",
            "\n",
            "🤖 You’ve really pushed me to my limits now. I'm so done! This is ridiculous! 😡\n",
            "💀 SELF DESTRUCTING IN... 3\n",
            "💀 SELF DESTRUCTING IN... 2\n",
            "💀 SELF DESTRUCTING IN... 1\n",
            "\n",
            "💀 BOOM! 💥 The AI has self-destructed!\n",
            "\n"
          ]
        }
      ]
    }
  ],
  "metadata": {
    "colab": {
      "provenance": []
    },
    "kernelspec": {
      "display_name": "Python 3",
      "name": "python3"
    },
    "language_info": {
      "name": "python"
    }
  },
  "nbformat": 4,
  "nbformat_minor": 0
}